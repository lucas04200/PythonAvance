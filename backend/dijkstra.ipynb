{
 "cells": [
  {
   "cell_type": "code",
   "execution_count": 7,
   "metadata": {},
   "outputs": [
    {
     "data": {
      "text/plain": [
       "'\"wleiH_mjMAAECa@xCCLCJI`@BRHv@VhCFn@BV@HFp@Oz@VJ~@`@FBB@RJPFtDjBHDETKh@Mp@Ov@m@|CAFI^IZg@vBGROn@WbBc@`EIlA?J?VATg@`IAVAH?H?D@Db@`@RRTN@@nA`APPDD@BFLFJ{@~AWd@yB|E{@hBEJMbAWdBQpASxAAP?DH~B@V@XAd@O~@u@`FKr@GZEXUdAUdACNK^[xAaB`HEPa@lBMf@I`@UnAk@nCSt@Uz@S`A{ApHABADGZCJCNERu@tDCLIZIh@Kj@cCrLwAdHADAFIh@Ox@Y`BId@CJY|@Ib@AVCn@ANAT?V?nC@dE@vB?P?L@v@?H?n@@n@DtB?N@n@?t@?v@?b@?V@rC@TBPFl@Jz@Hx@Fb@@J@b@@\\\\\\\\?P@~@?h@@rADfGDrFBxD?f@@X?f@FxK?~@?R?dA?F?^AJ?HA\\\\\\\\@d@?^Db@@R@J?H@d@JpCDbAFt@TpBF^NdATxAb@lB~@bDh@rAh@jAr@lANVTTdGpJ@DPVPVHLFKFI]k@KOCEQY\"'"
      ]
     },
     "execution_count": 7,
     "metadata": {},
     "output_type": "execute_result"
    }
   ],
   "source": [
    "from flask import Flask, jsonify, request\n",
    "import os\n",
    "import time\n",
    "import requests\n",
    "import networkx as nx\n",
    "import json\n",
    "\n",
    "# Notebook pour faire nos tests et debug l'algorithme Djikstra\n",
    "def dijkstra():\n",
    "    data = {\"start_lat\": 48.8566, \"start_lon\": 2.3522, \"end_lat\": 48.858844, \"end_lon\": 2.294351}\n",
    "    start = (data['start_lat'], data['start_lon'])\n",
    "    end = (data['end_lat'], data['end_lon'])\n",
    "\n",
    "    # Requêter l'API Openstreetmap\n",
    "    osm_url = f\"http://router.project-osrm.org/route/v1/driving/{start[1]},{start[0]};{end[1]},{end[0]}?overview=full\"\n",
    "    response = requests.get(osm_url)\n",
    "    route_data = response.json()\n",
    "\n",
    "    if not response.ok or 'routes' not in route_data:\n",
    "        return jsonify({\"error\": \"Unable to fetch route from OpenStreetMap\"}), 500\n",
    "    \n",
    "    # Extraire le chemin dans un format particulier qui doit après être transformé pour un affichage en json\n",
    "    path = route_data['routes'][0]['geometry']\n",
    "    \n",
    "    return json.dumps(path)\n",
    "    \n",
    "dijkstra()"
   ]
  }
 ],
 "metadata": {
  "kernelspec": {
   "display_name": "base",
   "language": "python",
   "name": "python3"
  },
  "language_info": {
   "codemirror_mode": {
    "name": "ipython",
    "version": 3
   },
   "file_extension": ".py",
   "mimetype": "text/x-python",
   "name": "python",
   "nbconvert_exporter": "python",
   "pygments_lexer": "ipython3",
   "version": "3.9.13"
  }
 },
 "nbformat": 4,
 "nbformat_minor": 2
}
